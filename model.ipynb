{
 "cells": [
  {
   "cell_type": "code",
   "execution_count": 6,
   "metadata": {
    "collapsed": false
   },
   "outputs": [],
   "source": [
    "import json\n",
    "import pandas as pd\n",
    "import numpy as np\n",
    "import datetime\n",
    "\n",
    "%matplotlib inline\n",
    "import seaborn as sns\n",
    "\n",
    "import catboost\n",
    "from catboost import CatBoostRegressor\n",
    "\n",
    "from sklearn.model_selection import cross_val_score, train_test_split\n",
    "from sklearn.metrics import mean_absolute_error\n",
    "\n",
    "pd.set_option('max_columns', 150)"
   ]
  },
  {
   "cell_type": "markdown",
   "metadata": {},
   "source": [
    "# Данные"
   ]
  },
  {
   "cell_type": "code",
   "execution_count": 2,
   "metadata": {
    "collapsed": true
   },
   "outputs": [],
   "source": [
    "X = pd.read_csv('./data/X.csv', sep = ';', encoding='cp1251')\n",
    "Y = pd.read_csv('./data/Y.csv', sep = ';', encoding='cp1251')"
   ]
  },
  {
   "cell_type": "markdown",
   "metadata": {},
   "source": [
    "# Важные признаки модели"
   ]
  },
  {
   "cell_type": "code",
   "execution_count": 4,
   "metadata": {
    "collapsed": false
   },
   "outputs": [
    {
     "name": "stdout",
     "output_type": "stream",
     "text": [
      "0 Жилая площадь 30.1\n",
      "1 Площадь кухни 28.19\n",
      "2 Этаж 4.54\n",
      "3 Лет дому 3.13\n",
      "4 Первый этаж 2.49\n",
      "5 Лет с момента ремонта 2.05\n",
      "6 Район=Заводской район 1.93\n",
      "7 Материал стен=силикатно-блочный 1.9\n",
      "8 Микрорайон=Независимости, Кедышко, Волгоградская 1.47\n",
      "9 Был капремонт 1.37\n"
     ]
    }
   ],
   "source": [
    "clf = CatBoostRegressor(verbose=False)\n",
    "clf.fit(X, Y)\n",
    "\n",
    "features = X.columns.values\n",
    "importances = clf.feature_importances_\n",
    "indices = np.argsort(importances)[::-1]\n",
    "\n",
    "num_to_plot = 10\n",
    "feature_indices = [ind+1 for ind in indices[:num_to_plot]]\n",
    "\n",
    "for i in range(num_to_plot):\n",
    "    print(i, features[feature_indices[i]], round(importances[indices[i]],2))"
   ]
  },
  {
   "cell_type": "markdown",
   "metadata": {},
   "source": [
    "# Точность модели на тестовом периоде"
   ]
  },
  {
   "cell_type": "code",
   "execution_count": 5,
   "metadata": {},
   "outputs": [],
   "source": [
    "X_train, X_test, y_train, y_test = train_test_split(X, Y, test_size = 0.2, random_state = 42)"
   ]
  },
  {
   "cell_type": "code",
   "execution_count": 12,
   "metadata": {},
   "outputs": [
    {
     "name": "stdout",
     "output_type": "stream",
     "text": [
      "MAE: 7571.96778327\n",
      "%MAPE: 81.7 %\n"
     ]
    }
   ],
   "source": [
    "clf = CatBoostRegressor(verbose=False)\n",
    "clf.fit(X_train, y_train)\n",
    "\n",
    "print('MAE:', mean_absolute_error(y_test, clf.predict(X_test)))\n",
    "print('%MAPE:', np.round(1 - np.sqrt(mean_squared_error(y_test, clf.predict(X_test))) / np.mean(y_test['Цена']), 3) * 100, '%')"
   ]
  },
  {
   "cell_type": "markdown",
   "metadata": {},
   "source": [
    "# Сохраним модель для использования в боте"
   ]
  },
  {
   "cell_type": "code",
   "execution_count": 8,
   "metadata": {},
   "outputs": [],
   "source": [
    "clf = CatBoostRegressor(verbose=False)\n",
    "clf.fit(X, Y)\n",
    "clf.save_model('model/ctb_model')"
   ]
  }
 ],
 "metadata": {
  "kernelspec": {
   "display_name": "tensorflow",
   "language": "python",
   "name": "tensorflow"
  },
  "language_info": {
   "codemirror_mode": {
    "name": "ipython",
    "version": 3
   },
   "file_extension": ".py",
   "mimetype": "text/x-python",
   "name": "python",
   "nbconvert_exporter": "python",
   "pygments_lexer": "ipython3",
   "version": "3.5.5"
  }
 },
 "nbformat": 4,
 "nbformat_minor": 2
}
