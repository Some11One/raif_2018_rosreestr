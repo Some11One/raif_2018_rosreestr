{
 "cells": [
  {
   "cell_type": "code",
   "execution_count": 1,
   "metadata": {
    "collapsed": false
   },
   "outputs": [],
   "source": [
    "import json\n",
    "import pandas as pd\n",
    "import numpy as np\n",
    "import datetime\n",
    "import tqdm\n",
    "import pickle\n",
    "import time\n",
    "import requests\n",
    "from bs4 import BeautifulSoup\n",
    "from lxml import html\n",
    "import operator\n",
    "import math\n",
    "\n",
    "%matplotlib inline\n",
    "import seaborn as sns\n",
    "\n",
    "pd.set_option('max_columns', 100)\n",
    "ya_token = ''"
   ]
  },
  {
   "cell_type": "code",
   "execution_count": 2,
   "metadata": {},
   "outputs": [],
   "source": [
    "def measure(lat1, lon1, lat2, lon2):\n",
    "    \n",
    "    '''\n",
    "    \n",
    "    Функция для рассчета расстояния между двумя точками на карте\n",
    "    \n",
    "    '''\n",
    "    \n",
    "    R = 6378.137\n",
    "    dLat = lat2 * math.pi / 180 - lat1 * math.pi / 180\n",
    "    dLon = lon2 * math.pi / 180 - lon1 * math.pi / 180\n",
    "    a = math.sin(dLat/2) * math.sin(dLat/2) + math.cos(lat1 * math.pi / 180) * \\\n",
    "        math.cos(lat2 * math.pi / 180) * math.sin(dLon/2) * math.sin(dLon / 2)\n",
    "        \n",
    "    c = 2 * math.atan2(math.sqrt(a), math.sqrt(1-a))\n",
    "    d = R * c\n",
    "    return d * 1000"
   ]
  },
  {
   "cell_type": "markdown",
   "metadata": {},
   "source": [
    "# Имортируем файл с данными, выгруженными с t-s.by и преобразовываем его в Pandas DataFrame:\n"
   ]
  },
  {
   "cell_type": "code",
   "execution_count": 3,
   "metadata": {
    "collapsed": false
   },
   "outputs": [
    {
     "data": {
      "text/html": [
       "<div>\n",
       "<style scoped>\n",
       "    .dataframe tbody tr th:only-of-type {\n",
       "        vertical-align: middle;\n",
       "    }\n",
       "\n",
       "    .dataframe tbody tr th {\n",
       "        vertical-align: top;\n",
       "    }\n",
       "\n",
       "    .dataframe thead th {\n",
       "        text-align: right;\n",
       "    }\n",
       "</style>\n",
       "<table border=\"1\" class=\"dataframe\">\n",
       "  <thead>\n",
       "    <tr style=\"text-align: right;\">\n",
       "      <th></th>\n",
       "      <th>Адрес</th>\n",
       "      <th>Балкон</th>\n",
       "      <th>Ближайшее метро</th>\n",
       "      <th>Год капитального ремонта</th>\n",
       "      <th>Год постройки</th>\n",
       "      <th>Город</th>\n",
       "      <th>Комнаты</th>\n",
       "      <th>Материал стен</th>\n",
       "      <th>Микрорайон</th>\n",
       "      <th>Описание</th>\n",
       "      <th>Площади</th>\n",
       "      <th>Полы</th>\n",
       "      <th>Район</th>\n",
       "      <th>Санузел</th>\n",
       "      <th>Телефон</th>\n",
       "      <th>Тип дома</th>\n",
       "      <th>Условия продажи</th>\n",
       "      <th>Цена</th>\n",
       "      <th>Этаж / Этажность</th>\n",
       "    </tr>\n",
       "    <tr>\n",
       "      <th>Код объекта</th>\n",
       "      <th></th>\n",
       "      <th></th>\n",
       "      <th></th>\n",
       "      <th></th>\n",
       "      <th></th>\n",
       "      <th></th>\n",
       "      <th></th>\n",
       "      <th></th>\n",
       "      <th></th>\n",
       "      <th></th>\n",
       "      <th></th>\n",
       "      <th></th>\n",
       "      <th></th>\n",
       "      <th></th>\n",
       "      <th></th>\n",
       "      <th></th>\n",
       "      <th></th>\n",
       "      <th></th>\n",
       "      <th></th>\n",
       "    </tr>\n",
       "  </thead>\n",
       "  <tbody>\n",
       "    <tr>\n",
       "      <th>818272</th>\n",
       "      <td>Ташкентская ул., 24 корпус 3</td>\n",
       "      <td>лоджия застекленная</td>\n",
       "      <td>NaN</td>\n",
       "      <td>0</td>\n",
       "      <td>1977</td>\n",
       "      <td>Минск</td>\n",
       "      <td>3</td>\n",
       "      <td>блок-комнаты</td>\n",
       "      <td>Чижовка</td>\n",
       "      <td>Комната в трехкомнатной квартире в микрорайоне...</td>\n",
       "      <td>71.4 / 13.95 / 9.16</td>\n",
       "      <td>линолеум</td>\n",
       "      <td>Заводской район</td>\n",
       "      <td>раздельный</td>\n",
       "      <td>есть</td>\n",
       "      <td>стандартные</td>\n",
       "      <td>чистая продажа</td>\n",
       "      <td>15 500 у. е.</td>\n",
       "      <td>2/9</td>\n",
       "    </tr>\n",
       "  </tbody>\n",
       "</table>\n",
       "</div>"
      ],
      "text/plain": [
       "                                    Адрес               Балкон  \\\n",
       "Код объекта                                                      \n",
       "818272       Ташкентская ул., 24 корпус 3  лоджия застекленная   \n",
       "\n",
       "            Ближайшее метро Год капитального ремонта Год постройки  Город  \\\n",
       "Код объекта                                                                 \n",
       "818272                  NaN                        0          1977  Минск   \n",
       "\n",
       "            Комнаты Материал стен Микрорайон  \\\n",
       "Код объекта                                    \n",
       "818272            3  блок-комнаты    Чижовка   \n",
       "\n",
       "                                                      Описание  \\\n",
       "Код объекта                                                      \n",
       "818272       Комната в трехкомнатной квартире в микрорайоне...   \n",
       "\n",
       "                         Площади      Полы            Район     Санузел  \\\n",
       "Код объекта                                                               \n",
       "818272       71.4 / 13.95 / 9.16  линолеум  Заводской район  раздельный   \n",
       "\n",
       "            Телефон     Тип дома Условия продажи           Цена  \\\n",
       "Код объекта                                                       \n",
       "818272         есть  стандартные  чистая продажа  15 500 у. е.    \n",
       "\n",
       "            Этаж / Этажность  \n",
       "Код объекта                   \n",
       "818272                   2/9  "
      ]
     },
     "execution_count": 3,
     "metadata": {},
     "output_type": "execute_result"
    }
   ],
   "source": [
    "with open('result.json', encoding='utf-8') as f: \n",
    "    data = json.load(f)\n",
    "    \n",
    "df = pd.io.json.json_normalize(data)\n",
    "df.index = df[u'Код объекта'].apply(pd.to_numeric)\n",
    "del df[u'Код объекта']\n",
    "df.head(1)"
   ]
  },
  {
   "cell_type": "markdown",
   "metadata": {},
   "source": [
    "# Обогатим lat & long"
   ]
  },
  {
   "cell_type": "code",
   "execution_count": 4,
   "metadata": {},
   "outputs": [
    {
     "name": "stderr",
     "output_type": "stream",
     "text": [
      "100%|████████████████████████████████████████████████████████████████████████████████| 410/410 [01:51<00:00,  3.68it/s]\n"
     ]
    },
    {
     "data": {
      "text/html": [
       "<div>\n",
       "<style scoped>\n",
       "    .dataframe tbody tr th:only-of-type {\n",
       "        vertical-align: middle;\n",
       "    }\n",
       "\n",
       "    .dataframe tbody tr th {\n",
       "        vertical-align: top;\n",
       "    }\n",
       "\n",
       "    .dataframe thead th {\n",
       "        text-align: right;\n",
       "    }\n",
       "</style>\n",
       "<table border=\"1\" class=\"dataframe\">\n",
       "  <thead>\n",
       "    <tr style=\"text-align: right;\">\n",
       "      <th></th>\n",
       "      <th>Адрес</th>\n",
       "      <th>Балкон</th>\n",
       "      <th>Ближайшее метро</th>\n",
       "      <th>Год капитального ремонта</th>\n",
       "      <th>Год постройки</th>\n",
       "      <th>Город</th>\n",
       "      <th>Комнаты</th>\n",
       "      <th>Материал стен</th>\n",
       "      <th>Микрорайон</th>\n",
       "      <th>Описание</th>\n",
       "      <th>Площади</th>\n",
       "      <th>Полы</th>\n",
       "      <th>Район</th>\n",
       "      <th>Санузел</th>\n",
       "      <th>Телефон</th>\n",
       "      <th>Тип дома</th>\n",
       "      <th>Условия продажи</th>\n",
       "      <th>Цена</th>\n",
       "      <th>Этаж / Этажность</th>\n",
       "      <th>lat</th>\n",
       "      <th>long</th>\n",
       "    </tr>\n",
       "    <tr>\n",
       "      <th>Код объекта</th>\n",
       "      <th></th>\n",
       "      <th></th>\n",
       "      <th></th>\n",
       "      <th></th>\n",
       "      <th></th>\n",
       "      <th></th>\n",
       "      <th></th>\n",
       "      <th></th>\n",
       "      <th></th>\n",
       "      <th></th>\n",
       "      <th></th>\n",
       "      <th></th>\n",
       "      <th></th>\n",
       "      <th></th>\n",
       "      <th></th>\n",
       "      <th></th>\n",
       "      <th></th>\n",
       "      <th></th>\n",
       "      <th></th>\n",
       "      <th></th>\n",
       "      <th></th>\n",
       "    </tr>\n",
       "  </thead>\n",
       "  <tbody>\n",
       "    <tr>\n",
       "      <th>818272</th>\n",
       "      <td>Ташкентская ул., 24 корпус 3</td>\n",
       "      <td>лоджия застекленная</td>\n",
       "      <td>NaN</td>\n",
       "      <td>0</td>\n",
       "      <td>1977</td>\n",
       "      <td>Минск</td>\n",
       "      <td>3</td>\n",
       "      <td>блок-комнаты</td>\n",
       "      <td>Чижовка</td>\n",
       "      <td>Комната в трехкомнатной квартире в микрорайоне...</td>\n",
       "      <td>71.4 / 13.95 / 9.16</td>\n",
       "      <td>линолеум</td>\n",
       "      <td>Заводской район</td>\n",
       "      <td>раздельный</td>\n",
       "      <td>есть</td>\n",
       "      <td>стандартные</td>\n",
       "      <td>чистая продажа</td>\n",
       "      <td>15 500 у. е.</td>\n",
       "      <td>2/9</td>\n",
       "      <td>27.634523</td>\n",
       "      <td>53.84655</td>\n",
       "    </tr>\n",
       "  </tbody>\n",
       "</table>\n",
       "</div>"
      ],
      "text/plain": [
       "                                    Адрес               Балкон  \\\n",
       "Код объекта                                                      \n",
       "818272       Ташкентская ул., 24 корпус 3  лоджия застекленная   \n",
       "\n",
       "            Ближайшее метро Год капитального ремонта Год постройки  Город  \\\n",
       "Код объекта                                                                 \n",
       "818272                  NaN                        0          1977  Минск   \n",
       "\n",
       "            Комнаты Материал стен Микрорайон  \\\n",
       "Код объекта                                    \n",
       "818272            3  блок-комнаты    Чижовка   \n",
       "\n",
       "                                                      Описание  \\\n",
       "Код объекта                                                      \n",
       "818272       Комната в трехкомнатной квартире в микрорайоне...   \n",
       "\n",
       "                         Площади      Полы            Район     Санузел  \\\n",
       "Код объекта                                                               \n",
       "818272       71.4 / 13.95 / 9.16  линолеум  Заводской район  раздельный   \n",
       "\n",
       "            Телефон     Тип дома Условия продажи           Цена  \\\n",
       "Код объекта                                                       \n",
       "818272         есть  стандартные  чистая продажа  15 500 у. е.    \n",
       "\n",
       "            Этаж / Этажность        lat      long  \n",
       "Код объекта                                        \n",
       "818272                   2/9  27.634523  53.84655  "
      ]
     },
     "execution_count": 4,
     "metadata": {},
     "output_type": "execute_result"
    }
   ],
   "source": [
    "for index, row in tqdm.tqdm(df.iterrows(), total = df.shape[0]):\n",
    "    r = requests.get('https://geocode-maps.yandex.ru/1.x/?format=json&apikey=%s&geocode=%s' % (ya_token, row['Город'] + ', ' + row['Адрес']))\n",
    "    r.enconding = 'cp1251'\n",
    "    j = json.loads(r.text)\n",
    "    ar = j.get('response').get('GeoObjectCollection').get('featureMember')\n",
    "    if len(ar) != 0:\n",
    "        p_lat, p_long = ar[0].get('GeoObject').get('Point').get('pos').split(' ')\n",
    "    df.loc[index, 'lat'] = p_lat\n",
    "    df.loc[index, 'long'] = p_long\n",
    "df.head(1)"
   ]
  },
  {
   "cell_type": "markdown",
   "metadata": {},
   "source": [
    "# Обогатим информацией о расстоянии до POI от квартиры"
   ]
  },
  {
   "cell_type": "code",
   "execution_count": 5,
   "metadata": {},
   "outputs": [],
   "source": [
    "for index, row in df.iterrows():\n",
    "    lat = float(row.long)\n",
    "    long = float(row.lat)\n",
    "            \n",
    "    # река / озеро / ручей / водохранилище \n",
    "    r = requests.get('https://geocode-maps.yandex.ru/1.x/?format=json&geocode=' + ','.join([str(lat), str(long)]) + '&kind=hydro' + '&spn=0.6,0.6' + '&apikey=%s' % ya_token)\n",
    "    r.enconding = 'cp1251'\n",
    "    j = json.loads(r.text)\n",
    "    ar = j.get('response').get('GeoObjectCollection').get('featureMember')\n",
    "    if len(ar) != 0 and ar[0] is not None:\n",
    "        p_lat, p_long = ar[0].get('GeoObject').get('Point').get('pos').split(' ')\n",
    "        p_long, p_lat = float(p_long), float(p_lat)\n",
    "        df.loc[index, 'distance_hydro'] = measure(lat, long, p_lat, p_long)\n",
    "    \n",
    "    # ж.д. станция\n",
    "    r = requests.get('https://geocode-maps.yandex.ru/1.x/?format=json&geocode=' + ','.join([str(lat), str(long)]) + '&kind=railway' + '&spn=0.6,0.6' + '&apikey=%s' % ya_token)\n",
    "    r.enconding = 'cp1251'\n",
    "    j = json.loads(r.text)\n",
    "    ar = j.get('response').get('GeoObjectCollection').get('featureMember')\n",
    "    if len(ar) != 0 and ar[0] is not None:\n",
    "        p_lat, p_long = ar[0].get('GeoObject').get('Point').get('pos').split(' ')\n",
    "        p_long, p_lat = float(p_long), float(p_lat)\n",
    "        df.loc[index, 'distance_railway'] = measure(lat, long, p_lat, p_long)\n",
    "    \n",
    "    # линия метро / шоссе / ж.д. линия\n",
    "    r = requests.get('https://geocode-maps.yandex.ru/1.x/?format=json&geocode=' + ','.join([str(lat), str(long)]) + '&kind=route' + '&spn=0.6,0.6' + '&apikey=%s' % ya_token)\n",
    "    r.enconding = 'cp1251'\n",
    "    j = json.loads(r.text)\n",
    "    ar = j.get('response').get('GeoObjectCollection').get('featureMember')\n",
    "    if len(ar) != 0 and ar[0] is not None:\n",
    "        p_lat, p_long = ar[0].get('GeoObject').get('Point').get('pos').split(' ')\n",
    "        p_long, p_lat = float(p_long), float(p_lat)\n",
    "        df.loc[index, 'distance_route'] = measure(lat, long, p_lat, p_long)\n",
    "    \n",
    "    # лес / парк / сад \n",
    "    r = requests.get('https://geocode-maps.yandex.ru/1.x/?format=json&geocode=' + ','.join([str(lat), str(long)]) + '&kind=vegetation' + '&spn=0.6,0.6' + '&apikey=%s' % ya_token)\n",
    "    r.enconding = 'cp1251'\n",
    "    j = json.loads(r.text)\n",
    "    ar = j.get('response').get('GeoObjectCollection').get('featureMember')\n",
    "    if len(ar) != 0 and ar[0] is not None:\n",
    "        p_lat, p_long = ar[0].get('GeoObject').get('Point').get('pos').split(' ')\n",
    "        p_long, p_lat = float(p_long), float(p_lat)\n",
    "        df.loc[index, 'distance_vegetation'] = measure(lat, long, p_lat, p_long)\n",
    "    \n",
    "    # аэропорт\n",
    "    r = requests.get('https://geocode-maps.yandex.ru/1.x/?format=json&geocode=' + ','.join([str(lat), str(long)]) + '&kind=airport' + '&spn=0.6,0.6' + '&apikey=%s' % ya_token)\n",
    "    r.enconding = 'cp1251'\n",
    "    j = json.loads(r.text)\n",
    "    ar = j.get('response').get('GeoObjectCollection').get('featureMember')\n",
    "    if len(ar) != 0 and ar[0] is not None:\n",
    "        p_lat, p_long = ar[0].get('GeoObject').get('Point').get('pos').split(' ')\n",
    "        p_long, p_lat = float(p_long), float(p_lat)\n",
    "        df.loc[index, 'distance_airport'] = measure(lat, long, p_lat, p_long)"
   ]
  },
  {
   "cell_type": "markdown",
   "metadata": {},
   "source": [
    "# Убираем пропуски в данных"
   ]
  },
  {
   "cell_type": "markdown",
   "metadata": {},
   "source": [
    "**Расстояние до POI**"
   ]
  },
  {
   "cell_type": "code",
   "execution_count": 6,
   "metadata": {},
   "outputs": [],
   "source": [
    "for c in [x for x in df.columns.values if 'distance' in x]:\n",
    "    df[c].fillna(df[c].max(), inplace = True)"
   ]
  },
  {
   "cell_type": "markdown",
   "metadata": {},
   "source": [
    "**Балкон**"
   ]
  },
  {
   "cell_type": "code",
   "execution_count": 7,
   "metadata": {
    "collapsed": false
   },
   "outputs": [],
   "source": [
    "df[u'Балкон'].fillna(u'нет', inplace=True)\n",
    "def common_converter(mapping, param):\n",
    "    if param in mapping:\n",
    "        return mapping[param]\n",
    "    return param\n",
    "\n",
    "balcony_mapping = {\n",
    "        u'балкон застекленный':u'балкон',\n",
    "        u'лоджия застекленная':u'лоджия',\n",
    "        u'лоджия застекленная + вагонка':u'лоджия',\n",
    "        u'балкон застекленный + вагонка':u'балкон',\n",
    "        u'2 балкона застекленные':u'2 балкона',\n",
    "        u'2 лоджии застекленные':u'2 лоджии',\n",
    "        u'3лз':u'3 лоджии',\n",
    "        u'3л':u'3 лоджии'        \n",
    "    }\n",
    "\n",
    "df[u'Балкон'] = df[u'Балкон'].map(lambda x: common_converter(balcony_mapping, x))"
   ]
  },
  {
   "cell_type": "markdown",
   "metadata": {},
   "source": [
    "**Метро**"
   ]
  },
  {
   "cell_type": "code",
   "execution_count": 8,
   "metadata": {
    "collapsed": false
   },
   "outputs": [],
   "source": [
    "df[u'Ближайшее метро'].fillna(u'нет', inplace=True)"
   ]
  },
  {
   "cell_type": "markdown",
   "metadata": {},
   "source": [
    "**Год постройки и Год капитального ремонта**"
   ]
  },
  {
   "cell_type": "code",
   "execution_count": 9,
   "metadata": {
    "collapsed": false
   },
   "outputs": [],
   "source": [
    "df[u'Год постройки'] = df[u'Год постройки'].apply(pd.to_numeric)\n",
    "df[u'Год капитального ремонта'] = df[u'Год капитального ремонта'].apply(pd.to_numeric)\n",
    "\n",
    "current_year = datetime.datetime.now().year\n",
    "def years_from_last_repair(row):\n",
    "    if row[u'Год капитального ремонта'] == 0:\n",
    "        row[u'Год капитального ремонта'] = row[u'Год постройки']\n",
    "    return current_year - row[u'Год капитального ремонта']\n",
    "\n",
    "df[u'Лет дому'] = df[u'Год постройки'].map(lambda x: current_year - x)\n",
    "df[u'Лет с момента ремонта'] = df.apply(lambda row: years_from_last_repair(row), axis=1)\n",
    "df[u'Был капремонт'] = df[u'Год капитального ремонта']!=0\n",
    "\n",
    "df.drop({u'Год постройки', u'Год капитального ремонта'}, axis=1, inplace=True)"
   ]
  },
  {
   "cell_type": "markdown",
   "metadata": {},
   "source": [
    "**Комнаты**"
   ]
  },
  {
   "cell_type": "code",
   "execution_count": 10,
   "metadata": {
    "collapsed": false
   },
   "outputs": [],
   "source": [
    "df = df[df[u'Комнаты'] != '1/2']\n",
    "\n",
    "df[u'Комнаты'] = df[u'Комнаты'].map(lambda x: x if x.find('/') == -1 else x.split('/')[0])\n",
    "df[u'Комнаты'] = df[u'Комнаты'].apply(pd.to_numeric)"
   ]
  },
  {
   "cell_type": "markdown",
   "metadata": {},
   "source": [
    "**Район и микрорайон**"
   ]
  },
  {
   "cell_type": "code",
   "execution_count": 11,
   "metadata": {
    "collapsed": false
   },
   "outputs": [],
   "source": [
    "df['Район'].fillna('Не указан', inplace = True)\n",
    "df[u'Микрорайон'].fillna(u'Не указан', inplace=True)"
   ]
  },
  {
   "cell_type": "markdown",
   "metadata": {},
   "source": [
    "**Площади**"
   ]
  },
  {
   "cell_type": "code",
   "execution_count": 12,
   "metadata": {
    "collapsed": true
   },
   "outputs": [],
   "source": [
    "df[u'Общая площадь'] = df[u'Площади'].map(lambda x: float(x.split(' / ')[0]))\n",
    "df[u'Жилая площадь'] = df[u'Площади'].map(lambda x: float(x.split(' / ')[1]))\n",
    "df[u'Площадь кухни'] = df[u'Площади'].map(lambda x: float(x.split(' / ')[2]))\n",
    "df = df.drop(u'Площади', axis=1)"
   ]
  },
  {
   "cell_type": "markdown",
   "metadata": {},
   "source": [
    "**Полы**"
   ]
  },
  {
   "cell_type": "code",
   "execution_count": 13,
   "metadata": {
    "collapsed": false
   },
   "outputs": [],
   "source": [
    "df[u'Полы'].fillna(u'Не указано', inplace=True)"
   ]
  },
  {
   "cell_type": "markdown",
   "metadata": {},
   "source": [
    "**Санузел**"
   ]
  },
  {
   "cell_type": "code",
   "execution_count": 14,
   "metadata": {
    "collapsed": false
   },
   "outputs": [],
   "source": [
    "df.drop(821155, inplace=True) # на улице\n",
    "toilet_mapping = {\n",
    "    u'2 сан.узла':u'раздельный',\n",
    "    u'3 сан.узла':u'раздельный'\n",
    "    }\n",
    "\n",
    "df[u'Санузел'] = df[u'Санузел'].map(lambda x: common_converter(toilet_mapping, x))\n",
    "df['Санузел'].fillna('нет', inplace = True)"
   ]
  },
  {
   "cell_type": "markdown",
   "metadata": {},
   "source": [
    "**Телефон**"
   ]
  },
  {
   "cell_type": "code",
   "execution_count": 15,
   "metadata": {
    "collapsed": false
   },
   "outputs": [],
   "source": [
    "df[u'Телефон'] = df[u'Телефон'].map(lambda x: common_converter({u'2 телефона':u'есть'}, x))"
   ]
  },
  {
   "cell_type": "markdown",
   "metadata": {},
   "source": [
    "**Тип дома**"
   ]
  },
  {
   "cell_type": "code",
   "execution_count": 16,
   "metadata": {
    "collapsed": true
   },
   "outputs": [],
   "source": [
    "df[u'Тип дома'].fillna(u'не указан', inplace=True)"
   ]
  },
  {
   "cell_type": "markdown",
   "metadata": {},
   "source": [
    "**Условия продажи**"
   ]
  },
  {
   "cell_type": "code",
   "execution_count": 17,
   "metadata": {
    "collapsed": false
   },
   "outputs": [],
   "source": [
    "df[u'Условия продажи'].fillna(u'не указан', inplace=True)\n",
    "df[u'Условия продажи'] = df[u'Условия продажи'].map(lambda x: common_converter({u'обмен - разъезд':u'обмен'}, x))"
   ]
  },
  {
   "cell_type": "markdown",
   "metadata": {},
   "source": [
    "**Цена**"
   ]
  },
  {
   "cell_type": "code",
   "execution_count": 18,
   "metadata": {
    "collapsed": false
   },
   "outputs": [],
   "source": [
    "df[u'Цена'] = df[u'Цена'].map(lambda x: float(x[:x.find(u' у. е.')].replace(' ','')))"
   ]
  },
  {
   "cell_type": "code",
   "execution_count": 19,
   "metadata": {
    "collapsed": false
   },
   "outputs": [
    {
     "data": {
      "image/png": "[encoded data removed]",
      "text/plain": [
       "<matplotlib.figure.Figure at 0x1dc331e5be0>"
      ]
     },
     "metadata": {},
     "output_type": "display_data"
    }
   ],
   "source": [
    "sns.distplot(df[u'Цена']/1000);"
   ]
  },
  {
   "cell_type": "markdown",
   "metadata": {},
   "source": [
    "**Этаж/этажность**"
   ]
  },
  {
   "cell_type": "code",
   "execution_count": 20,
   "metadata": {
    "collapsed": false
   },
   "outputs": [],
   "source": [
    "df.loc[df[u'Этаж / Этажность'].isnull(), u'Этаж / Этажность'] = u'5/9'"
   ]
  },
  {
   "cell_type": "code",
   "execution_count": 21,
   "metadata": {
    "collapsed": false
   },
   "outputs": [],
   "source": [
    "df[u'Этаж'] = df[u'Этаж / Этажность'].map(lambda x: int(x.split('/')[0]))\n",
    "df[u'Этажность'] = df[u'Этаж / Этажность'].map(lambda x: int(x.split('/')[1]))"
   ]
  },
  {
   "cell_type": "code",
   "execution_count": 22,
   "metadata": {
    "collapsed": false
   },
   "outputs": [
    {
     "data": {
      "image/png": "[encoded data removed]",
      "text/plain": [
       "<matplotlib.figure.Figure at 0x1dc3334d358>"
      ]
     },
     "metadata": {},
     "output_type": "display_data"
    }
   ],
   "source": [
    "sns.distplot(df[u'Этаж'], kde=False, bins=20);"
   ]
  },
  {
   "cell_type": "code",
   "execution_count": 23,
   "metadata": {
    "collapsed": true
   },
   "outputs": [],
   "source": [
    "df[u'Первый этаж'] = df[u'Этаж'].map(lambda x: 1 if x==1 else 0)"
   ]
  },
  {
   "cell_type": "code",
   "execution_count": 24,
   "metadata": {
    "collapsed": true
   },
   "outputs": [],
   "source": [
    "df[u'Последний этаж'] = df[u'Этаж / Этажность'].map(lambda x: 1 if x.split('/')[0] == x.split('/')[1] else 0)"
   ]
  },
  {
   "cell_type": "code",
   "execution_count": 25,
   "metadata": {
    "collapsed": true
   },
   "outputs": [],
   "source": [
    "df = df.drop(u'Этаж / Этажность', axis=1)"
   ]
  },
  {
   "cell_type": "markdown",
   "metadata": {},
   "source": [
    "# Выносим таргет"
   ]
  },
  {
   "cell_type": "code",
   "execution_count": 28,
   "metadata": {
    "collapsed": true
   },
   "outputs": [],
   "source": [
    "X = df.drop({u'Цена', u'Описание', u'Адрес', 'lat', 'long'}, axis=1)\n",
    "Y = df[u'Цена']"
   ]
  },
  {
   "cell_type": "markdown",
   "metadata": {},
   "source": [
    "# Кодируем"
   ]
  },
  {
   "cell_type": "code",
   "execution_count": 29,
   "metadata": {},
   "outputs": [],
   "source": [
    "from sklearn.preprocessing import LabelEncoder\n",
    "from sklearn.preprocessing import OneHotEncoder\n",
    "\n",
    "def encode_with_LabelEncoder(df, column_name):\n",
    "    label_encoder = LabelEncoder()\n",
    "    label_encoder.fit(df[column_name])\n",
    "    df[column_name+'_le'] = label_encoder.transform(df[column_name])\n",
    "    df.drop([column_name], axis=1, inplace=True)\n",
    "    return label_encoder\n",
    "\n",
    "def encode_with_existing_LabelEncoder(df, column_name, label_encoder):\n",
    "    df[column_name+'_le'] = label_encoder.transform(df[column_name])\n",
    "    df.drop([column_name], axis=1, inplace=True)\n",
    "\n",
    "def encode_with_OneHotEncoder_and_delete_column(df, column_name):\n",
    "    le_encoder = encode_with_LabelEncoder(df, column_name)\n",
    "    return perform_dummy_coding_and_delete_column(df, column_name, le_encoder), le_encoder\n",
    "\n",
    "def encode_with_OneHotEncoder_using_existing_LabelEncoder_and_delete_column(df, column_name, le_encoder):\n",
    "    encode_with_existing_LabelEncoder(df, column_name, le_encoder)\n",
    "    return perform_dummy_coding_and_delete_column(df, column_name, le_encoder)\n",
    "\n",
    "def perform_dummy_coding_and_delete_column(df, column_name, le_encoder):\n",
    "    oh_encoder = OneHotEncoder(sparse=False)\n",
    "    oh_features = oh_encoder.fit_transform(df[column_name+'_le'].values.reshape(-1,1))\n",
    "    ohe_columns=[column_name + '=' + le_encoder.classes_[i] for i in range(oh_features.shape[1])]\n",
    "\n",
    "    df.drop([column_name+'_le'], axis=1, inplace=True)\n",
    "\n",
    "    df_with_features = pd.DataFrame(oh_features, columns=ohe_columns)\n",
    "    df_with_features.index = df.index\n",
    "    return pd.concat([df, df_with_features], axis=1)"
   ]
  },
  {
   "cell_type": "code",
   "execution_count": 30,
   "metadata": {},
   "outputs": [],
   "source": [
    "phone_le_converter = encode_with_LabelEncoder(X,u'Телефон')\n",
    "X, balcony_le_encoder = encode_with_OneHotEncoder_and_delete_column(X,u'Балкон')\n",
    "X, metro_le_encoder = encode_with_OneHotEncoder_and_delete_column(X,u'Ближайшее метро')\n",
    "X, city_le_encoder = encode_with_OneHotEncoder_and_delete_column(X,u'Город')\n",
    "X, wall_materials_le_encoder = encode_with_OneHotEncoder_and_delete_column(X,u'Материал стен')\n",
    "X, ground_le_encoder = encode_with_OneHotEncoder_and_delete_column(X,u'Полы')\n",
    "X, rayon_le_encoder = encode_with_OneHotEncoder_and_delete_column(X,u'Район')\n",
    "X, sanuzel_le_encoder = encode_with_OneHotEncoder_and_delete_column(X,u'Санузел')\n",
    "X, subregion_le_encoder = encode_with_OneHotEncoder_and_delete_column(X,u'Микрорайон')\n",
    "X, house_type_le_encoder = encode_with_OneHotEncoder_and_delete_column(X,u'Тип дома')\n",
    "X, sell_conditions_le_encoder = encode_with_OneHotEncoder_and_delete_column(X,u'Условия продажи')"
   ]
  },
  {
   "cell_type": "markdown",
   "metadata": {},
   "source": [
    "# Cохраним"
   ]
  },
  {
   "cell_type": "code",
   "execution_count": 31,
   "metadata": {},
   "outputs": [],
   "source": [
    "X.to_csv('data/X.csv', sep = ';', encoding='cp1251', index = False)\n",
    "Y.to_csv('data/y.csv', sep = ';', encoding='cp1251', index = False, header=-1)"
   ]
  }
 ],
 "metadata": {
  "kernelspec": {
   "display_name": "tensorflow",
   "language": "python",
   "name": "tensorflow"
  },
  "language_info": {
   "codemirror_mode": {
    "name": "ipython",
    "version": 3
   },
   "file_extension": ".py",
   "mimetype": "text/x-python",
   "name": "python",
   "nbconvert_exporter": "python",
   "pygments_lexer": "ipython3",
   "version": "3.5.5"
  }
 },
 "nbformat": 4,
 "nbformat_minor": 2
}
